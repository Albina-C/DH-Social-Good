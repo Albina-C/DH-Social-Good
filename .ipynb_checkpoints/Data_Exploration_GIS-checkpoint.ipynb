{
 "cells": [
  {
   "cell_type": "code",
   "execution_count": 76,
   "id": "1e20d476-b6d4-47b9-8b5b-7b75a1f3a0d6",
   "metadata": {},
   "outputs": [],
   "source": [
    "# import packages here\n",
    "import pandas as pd\n",
    "import numpy as np\n",
    "from scipy import stats\n",
    "from ipywidgets import *\n",
    "from ipyleaflet import *"
   ]
  },
  {
   "cell_type": "code",
   "execution_count": 77,
   "id": "8ba54869-6c83-4fe4-a299-3529cb215dcb",
   "metadata": {},
   "outputs": [],
   "source": [
    "crime= pd.read_csv('Filtered_Crime.csv', engine='python')"
   ]
  },
  {
   "cell_type": "code",
   "execution_count": 78,
   "id": "a47193b8-6d51-48d6-84ee-dcfe3d52fe5e",
   "metadata": {},
   "outputs": [],
   "source": [
    "Aug = crime[crime['month']==8]"
   ]
  },
  {
   "cell_type": "code",
   "execution_count": 79,
   "id": "96a59614-9015-4d54-857d-4f1e508f73af",
   "metadata": {},
   "outputs": [],
   "source": [
    "shootings = crime[crime['shooting']=='Y']\n",
    "August_Crime_Locations = []"
   ]
  },
  {
   "cell_type": "code",
   "execution_count": 80,
   "id": "8c22ad23-faa2-4850-9610-83892a9bdd6c",
   "metadata": {},
   "outputs": [],
   "source": [
    "for i in range(len(Aug)):\n",
    "    August_Crime_Locations.append((float(crime['lat'][i]),float(crime['long'][i])))"
   ]
  },
  {
   "cell_type": "code",
   "execution_count": 81,
   "id": "b13bcc5b-1827-4666-9910-60126f4fe57b",
   "metadata": {},
   "outputs": [],
   "source": [
    "# Open source 'Fraud' icon by Icons8, from https://icons8.com/icon/74214/fraud\n",
    "icon = Icon(icon_url=\"https://img.icons8.com/small/16/000000/fraud.png\", icon_size=[5, 5])"
   ]
  },
  {
   "cell_type": "code",
   "execution_count": 82,
   "id": "b10b5cb6-d8dc-405a-b6d2-89097591a874",
   "metadata": {},
   "outputs": [
    {
     "data": {
      "application/vnd.jupyter.widget-view+json": {
       "model_id": "d9db2bcdc31d42b69814926a3e662259",
       "version_major": 2,
       "version_minor": 0
      },
      "text/plain": [
       "Map(center=[42.361309, -71.058098], controls=(ZoomControl(options=['position', 'zoom_in_text', 'zoom_in_title'…"
      ]
     },
     "metadata": {},
     "output_type": "display_data"
    }
   ],
   "source": [
    "# This code chunk processes ~8000 elements and takes ~5 minutes to load\n",
    "# The map is interactive\n",
    "m = Map(center=(42.361309, -71.058098), zoom=12)\n",
    "for i in August_Crime_Locations:  \n",
    "    marker = Marker(location=i, draggable=False, icon = icon)\n",
    "    m.add_layer(marker);\n",
    "\n",
    "display(m)"
   ]
  },
  {
   "cell_type": "code",
   "execution_count": 84,
   "id": "3f5277eb-d196-42d8-821f-245c8b7944c3",
   "metadata": {},
   "outputs": [],
   "source": [
    "m.save('Aug2018crimes.html', title='Reported crimes in Boston in August, 2018')"
   ]
  },
  {
   "cell_type": "code",
   "execution_count": null,
   "id": "7bc780a7-de34-4d09-850f-7de80462e11a",
   "metadata": {},
   "outputs": [],
   "source": []
  }
 ],
 "metadata": {
  "kernelspec": {
   "display_name": "Python 3",
   "language": "python",
   "name": "python3"
  },
  "language_info": {
   "codemirror_mode": {
    "name": "ipython",
    "version": 3
   },
   "file_extension": ".py",
   "mimetype": "text/x-python",
   "name": "python",
   "nbconvert_exporter": "python",
   "pygments_lexer": "ipython3",
   "version": "3.8.8"
  }
 },
 "nbformat": 4,
 "nbformat_minor": 5
}
