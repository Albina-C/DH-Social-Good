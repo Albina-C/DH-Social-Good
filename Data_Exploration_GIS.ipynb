{
 "cells": [
  {
   "cell_type": "code",
   "execution_count": 27,
   "id": "1e20d476-b6d4-47b9-8b5b-7b75a1f3a0d6",
   "metadata": {},
   "outputs": [],
   "source": [
    "# import packages here\n",
    "import pandas as pd\n",
    "import numpy as np\n",
    "from scipy import stats\n",
    "from ipywidgets import *\n",
    "from ipyleaflet import *"
   ]
  },
  {
   "cell_type": "code",
   "execution_count": 28,
   "id": "8ba54869-6c83-4fe4-a299-3529cb215dcb",
   "metadata": {},
   "outputs": [],
   "source": [
    "crime= pd.read_csv('Filtered_Crime.csv', engine='python')\n"
   ]
  },
  {
   "cell_type": "code",
   "execution_count": 29,
   "id": "a47193b8-6d51-48d6-84ee-dcfe3d52fe5e",
   "metadata": {},
   "outputs": [],
   "source": [
    "Aug = crime[crime['month']==8]\n",
    "Aug_Sundays = Aug[Aug['day_of_week']=='Sunday']\n",
    "Aug_Sundays.reset_index(drop=True, inplace=True)\n",
    "#Aug_Sundays"
   ]
  },
  {
   "cell_type": "code",
   "execution_count": 30,
   "id": "96a59614-9015-4d54-857d-4f1e508f73af",
   "metadata": {},
   "outputs": [],
   "source": [
    "#shootings = crime[crime['shooting']=='Y']\n",
    "August_Sundays_Crime_Locations = []"
   ]
  },
  {
   "cell_type": "code",
   "execution_count": null,
   "id": "4db7d1d7",
   "metadata": {},
   "outputs": [],
   "source": []
  },
  {
   "cell_type": "code",
   "execution_count": 31,
   "id": "8c22ad23-faa2-4850-9610-83892a9bdd6c",
   "metadata": {},
   "outputs": [],
   "source": [
    "for i in range(len(Aug_Sundays)):\n",
    "    August_Sundays_Crime_Locations.append((float(Aug_Sundays['lat'][i]),float(Aug_Sundays['long'][i])))"
   ]
  },
  {
   "cell_type": "code",
   "execution_count": 32,
   "id": "e32319bb",
   "metadata": {},
   "outputs": [],
   "source": [
    "#August_Sundays_Crime_Locations"
   ]
  },
  {
   "cell_type": "code",
   "execution_count": 23,
   "id": "b13bcc5b-1827-4666-9910-60126f4fe57b",
   "metadata": {},
   "outputs": [],
   "source": [
    "# Open source 'Fraud' icon by Icons8, from https://icons8.com/icon/74214/fraud\n",
    "icon = Icon(icon_url=\"https://img.icons8.com/small/16/000000/fraud.png\", icon_size=[5, 5])"
   ]
  },
  {
   "cell_type": "code",
   "execution_count": 24,
   "id": "b10b5cb6-d8dc-405a-b6d2-89097591a874",
   "metadata": {},
   "outputs": [
    {
     "data": {
      "application/vnd.jupyter.widget-view+json": {
       "model_id": "382268b7fbf0425087bf33cfa46254ec",
       "version_major": 2,
       "version_minor": 0
      },
      "text/plain": [
       "Map(center=[42.361309, -71.058098], controls=(ZoomControl(options=['position', 'zoom_in_text', 'zoom_in_title'…"
      ]
     },
     "metadata": {},
     "output_type": "display_data"
    }
   ],
   "source": [
    "# This code chunk processes ~8000 elements and takes ~5 minutes to load\n",
    "# The map is interactive\n",
    "m = Map(center=(42.361309, -71.058098), zoom=12)\n",
    "for i in August_Sundays_Crime_Locations:  \n",
    "    marker = Marker(location=i, draggable=False, icon = icon)\n",
    "    m.add_layer(marker);\n",
    "\n",
    "display(m)"
   ]
  },
  {
   "cell_type": "code",
   "execution_count": 25,
   "id": "3f5277eb-d196-42d8-821f-245c8b7944c3",
   "metadata": {},
   "outputs": [],
   "source": [
    "m.save('Aug2018crimes.html', title='Reported crimes in Boston in August, 2018')"
   ]
  },
  {
   "cell_type": "code",
   "execution_count": null,
   "id": "7bc780a7-de34-4d09-850f-7de80462e11a",
   "metadata": {},
   "outputs": [],
   "source": []
  },
  {
   "cell_type": "code",
   "execution_count": null,
   "id": "5fb14500-61fd-43ed-bf0b-2b6a7573aa9c",
   "metadata": {},
   "outputs": [],
   "source": []
  },
  {
   "cell_type": "code",
   "execution_count": null,
   "id": "aeca0726-3635-40ec-85e3-81e0d39f1ac1",
   "metadata": {},
   "outputs": [],
   "source": []
  },
  {
   "cell_type": "code",
   "execution_count": null,
   "id": "acceef5a-fead-46b4-b62a-a2d2ce4f360f",
   "metadata": {},
   "outputs": [],
   "source": []
  }
 ],
 "metadata": {
  "kernelspec": {
   "display_name": "Python 3",
   "language": "python",
   "name": "python3"
  },
  "language_info": {
   "codemirror_mode": {
    "name": "ipython",
    "version": 3
   },
   "file_extension": ".py",
   "mimetype": "text/x-python",
   "name": "python",
   "nbconvert_exporter": "python",
   "pygments_lexer": "ipython3",
   "version": "3.8.8"
  }
 },
 "nbformat": 4,
 "nbformat_minor": 5
}
